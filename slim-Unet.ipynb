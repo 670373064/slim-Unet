{
 "cells": [
  {
   "cell_type": "code",
   "execution_count": 13,
   "metadata": {
    "collapsed": true
   },
   "outputs": [],
   "source": [
    "import tensorflow as tf \n",
    "slim = tf.contrib.slim"
   ]
  },
  {
   "cell_type": "code",
   "execution_count": 20,
   "metadata": {
    "collapsed": true
   },
   "outputs": [],
   "source": [
    "def u_net(image, phase_train):\n",
    "    with tf.variable_scope(\"u_net\"):\n",
    "        with slim.arg_scpoe([slim.conv2d,  slim.conv2d_transpose, slim.max_pool2d, slim.avg_pool2d], stride=1, padding='VALID'):\n",
    "            # slim.conv2d default relu activation\n",
    "            # subsampling\n",
    "            conv0 = slim.repeat(image, 2, slim.conv2d, 32, [3, 3], scope='conv0')\n",
    "            pool0 = slim.max_pool2d(pool1, [2, 2], scope='pool0')  # 1/2\n",
    "            bn0 = slim.batch_norm(pool1, decay=0.9, epsilon=1e-5, scope=\"bn0\")\n",
    "            \n",
    "            conv1 = slim.repeat(image, 2, slim.conv2d, 64, [3, 3], scope='conv1')\n",
    "            pool1 = slim.max_pool2d(pool1, [2, 2], scope='pool1')  # 1/4\n",
    "            bn1 = slim.batch_norm(pool1, decay=0.9, epsilon=1e-5, scope=\"bn1\")\n",
    "            \n",
    "            conv2 = slim.repeat(bn1, 2, slim.conv2d, 128, [3, 3], scope='conv2')\n",
    "            pool2 = slim.max_pool2d(conv2, [2, 2], scope='pool2')  # 1/8\n",
    "            bn2 = slim.batch_norm(pool2, decay=0.9, epsilon=1e-5, scope=\"bn2\")\n",
    "            \n",
    "            conv3 = slim.repeat(bn2, 2, slim.conv2d, 256, [3, 3], scope='conv3')\n",
    "            pool3 = slim.max_pool2d(conv3, [2, 2], scope='pool3')  # 1/16\n",
    "            bn3 = slim.batch_norm(pool3, decay=0.9, epsilon=1e-5, scope=\"bn3\")\n",
    "            \n",
    "            conv4 = slim.repeat(bn2, 2, slim.conv2d, 512, [3, 3], scope='conv4')\n",
    "            pool4 = slim.max_pool2d(conv4, [2, 2], scope='pool4')  # 1/32\n",
    "            bn4 = slim.batch_norm(pool4, decay=0.9, epsilon=1e-5, scope=\"bn4\")\n",
    "            \n",
    "            # upsampling\n",
    "            conv_t1 = slim.conv2d_transpose(bn4, 256, [2,2], scope='conv_t1') # up to 1/16 + conv3\n",
    "            merge1 = tf.concat([conv_t1, conv3], 3)\n",
    "            conv5 = slim.stack(merge1, slim.conv2d, [(512, [3, 3]),(256, [3,3])], scope='conv5')\n",
    "            bn5 = slim.batch_norm(conv5, decay=0.9, epsilon=1e-5, scope='bn5')\n",
    "            \n",
    "            conv_t2 = slim.conv2d_transpose(bn5, 128, [2,2], scope='conv_t2') # up to 1/8 + conv2\n",
    "            merge2 = tf.concat([conv_t2, conv2], 3)\n",
    "            conv6 = slim.stack(merge2, slim.conv2d, [(256, [3,3]), (128, [3,3])], scope='conv6')\n",
    "            bn6 = slim.batch_norm(conv6, decay=0.9, epsilon=1e-5, scope='bn6')\n",
    "            \n",
    "            conv_t3 = slim.conv2d_transpose(bn6, 64, [2,2], scope='conv_t3') # up to 1/4 + conv1\n",
    "            merge3 = tf.concat([conv_t3, conv1], 3)\n",
    "            conv7 = slim.stack(merge3, slim.con2d, [(128, [3,3]), (64, [3,3])], scope='conv7')\n",
    "            bn7 = slim.batch_norm(conv7, decay=0.9, epsilon=1e-5, scope='bn7')\n",
    "            \n",
    "            conv_t4 = slim.conv2d_transpose(bn7, 32, [2,2], scope='convt4')  # up to 1/2 + conv0\n",
    "            merge4 = tf.concat([conv_t4, conv0], 3)\n",
    "            conv8 = slim.stack(merge4, slim.conv2d, [(64, [3,3]), (32, [3,3])], scope='conv8')\n",
    "            bn8 = slim.batch_norm(conv7, deacy=0.9, epsilon=1e-5, scope='bn8')\n",
    "            \n",
    "            # output layer scoreMap\n",
    "            conv9 = slim.conv2d(bn7, 2, [1,1], scope='scoreMap') # 2 CLASSES_NUM\n",
    "            annotation_pred = tf.argmax(conv9, dimension=3, name='prediction')\n",
    "            return annotation_pred, conv9\n",
    "            "
   ]
  },
  {
   "cell_type": "code",
   "execution_count": 25,
   "metadata": {
    "collapsed": true
   },
   "outputs": [],
   "source": [
    "def train():\n",
    "    optimizer = slim.train.AdamOptimizer(learning_rate=1e-5)\n",
    "    return optimizer"
   ]
  },
  {
   "cell_type": "code",
   "execution_count": null,
   "metadata": {
    "collapsed": true
   },
   "outputs": [],
   "source": [
    "def main():\n",
    "    keep"
   ]
  },
  {
   "cell_type": "code",
   "execution_count": null,
   "metadata": {
    "collapsed": true
   },
   "outputs": [],
   "source": []
  },
  {
   "cell_type": "code",
   "execution_count": null,
   "metadata": {
    "collapsed": true
   },
   "outputs": [],
   "source": []
  },
  {
   "cell_type": "code",
   "execution_count": null,
   "metadata": {
    "collapsed": true
   },
   "outputs": [],
   "source": []
  }
 ],
 "metadata": {
  "kernelspec": {
   "display_name": "Python 2",
   "language": "python",
   "name": "python2"
  },
  "language_info": {
   "codemirror_mode": {
    "name": "ipython",
    "version": 2
   },
   "file_extension": ".py",
   "mimetype": "text/x-python",
   "name": "python",
   "nbconvert_exporter": "python",
   "pygments_lexer": "ipython2",
   "version": "2.7.12"
  }
 },
 "nbformat": 4,
 "nbformat_minor": 2
}
